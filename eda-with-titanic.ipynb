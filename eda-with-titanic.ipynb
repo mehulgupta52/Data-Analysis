{
 "cells": [
  {
   "cell_type": "code",
   "execution_count": 1,
   "id": "10c596e9",
   "metadata": {
    "_cell_guid": "b1076dfc-b9ad-4769-8c92-a6c4dae69d19",
    "_uuid": "8f2839f25d086af736a60e9eeb907d3b93b6e0e5",
    "execution": {
     "iopub.execute_input": "2022-06-07T11:23:34.654964Z",
     "iopub.status.busy": "2022-06-07T11:23:34.654167Z",
     "iopub.status.idle": "2022-06-07T11:23:34.668135Z",
     "shell.execute_reply": "2022-06-07T11:23:34.667009Z"
    },
    "papermill": {
     "duration": 0.028045,
     "end_time": "2022-06-07T11:23:34.671346",
     "exception": false,
     "start_time": "2022-06-07T11:23:34.643301",
     "status": "completed"
    },
    "tags": []
   },
   "outputs": [
    {
     "name": "stdout",
     "output_type": "stream",
     "text": [
      "/kaggle/input/titanic/train.csv\n",
      "/kaggle/input/titanic/test.csv\n",
      "/kaggle/input/titanic/gender_submission.csv\n"
     ]
    }
   ],
   "source": [
    "# This Python 3 environment comes with many helpful analytics libraries installed\n",
    "# It is defined by the kaggle/python Docker image: https://github.com/kaggle/docker-python\n",
    "# For example, here's several helpful packages to load\n",
    "\n",
    "import numpy as np # linear algebra\n",
    "import pandas as pd # data processing, CSV file I/O (e.g. pd.read_csv)\n",
    "\n",
    "# Input data files are available in the read-only \"../input/\" directory\n",
    "# For example, running this (by clicking run or pressing Shift+Enter) will list all files under the input directory\n",
    "\n",
    "import os\n",
    "for dirname, _, filenames in os.walk('/kaggle/input'):\n",
    "    for filename in filenames:\n",
    "        print(os.path.join(dirname, filename))\n",
    "\n",
    "# You can write up to 20GB to the current directory (/kaggle/working/) that gets preserved as output when you create a version using \"Save & Run All\" \n",
    "# You can also write temporary files to /kaggle/temp/, but they won't be saved outside of the current session"
   ]
  },
  {
   "cell_type": "code",
   "execution_count": 2,
   "id": "8e1c9ed6",
   "metadata": {
    "execution": {
     "iopub.execute_input": "2022-06-07T11:23:34.684063Z",
     "iopub.status.busy": "2022-06-07T11:23:34.683389Z",
     "iopub.status.idle": "2022-06-07T11:23:34.706489Z",
     "shell.execute_reply": "2022-06-07T11:23:34.705554Z"
    },
    "papermill": {
     "duration": 0.032099,
     "end_time": "2022-06-07T11:23:34.708977",
     "exception": false,
     "start_time": "2022-06-07T11:23:34.676878",
     "status": "completed"
    },
    "tags": []
   },
   "outputs": [],
   "source": [
    "titanic_train = pd.read_csv('../input/titanic/train.csv') "
   ]
  },
  {
   "cell_type": "code",
   "execution_count": 3,
   "id": "54f19be0",
   "metadata": {
    "execution": {
     "iopub.execute_input": "2022-06-07T11:23:34.722130Z",
     "iopub.status.busy": "2022-06-07T11:23:34.721472Z",
     "iopub.status.idle": "2022-06-07T11:23:34.746966Z",
     "shell.execute_reply": "2022-06-07T11:23:34.745924Z"
    },
    "papermill": {
     "duration": 0.034985,
     "end_time": "2022-06-07T11:23:34.749454",
     "exception": false,
     "start_time": "2022-06-07T11:23:34.714469",
     "status": "completed"
    },
    "tags": []
   },
   "outputs": [
    {
     "data": {
      "text/html": [
       "<div>\n",
       "<style scoped>\n",
       "    .dataframe tbody tr th:only-of-type {\n",
       "        vertical-align: middle;\n",
       "    }\n",
       "\n",
       "    .dataframe tbody tr th {\n",
       "        vertical-align: top;\n",
       "    }\n",
       "\n",
       "    .dataframe thead th {\n",
       "        text-align: right;\n",
       "    }\n",
       "</style>\n",
       "<table border=\"1\" class=\"dataframe\">\n",
       "  <thead>\n",
       "    <tr style=\"text-align: right;\">\n",
       "      <th></th>\n",
       "      <th>PassengerId</th>\n",
       "      <th>Survived</th>\n",
       "      <th>Pclass</th>\n",
       "      <th>Name</th>\n",
       "      <th>Sex</th>\n",
       "      <th>Age</th>\n",
       "      <th>SibSp</th>\n",
       "      <th>Parch</th>\n",
       "      <th>Ticket</th>\n",
       "      <th>Fare</th>\n",
       "      <th>Cabin</th>\n",
       "      <th>Embarked</th>\n",
       "    </tr>\n",
       "  </thead>\n",
       "  <tbody>\n",
       "    <tr>\n",
       "      <th>0</th>\n",
       "      <td>1</td>\n",
       "      <td>0</td>\n",
       "      <td>3</td>\n",
       "      <td>Braund, Mr. Owen Harris</td>\n",
       "      <td>male</td>\n",
       "      <td>22.0</td>\n",
       "      <td>1</td>\n",
       "      <td>0</td>\n",
       "      <td>A/5 21171</td>\n",
       "      <td>7.2500</td>\n",
       "      <td>NaN</td>\n",
       "      <td>S</td>\n",
       "    </tr>\n",
       "    <tr>\n",
       "      <th>1</th>\n",
       "      <td>2</td>\n",
       "      <td>1</td>\n",
       "      <td>1</td>\n",
       "      <td>Cumings, Mrs. John Bradley (Florence Briggs Th...</td>\n",
       "      <td>female</td>\n",
       "      <td>38.0</td>\n",
       "      <td>1</td>\n",
       "      <td>0</td>\n",
       "      <td>PC 17599</td>\n",
       "      <td>71.2833</td>\n",
       "      <td>C85</td>\n",
       "      <td>C</td>\n",
       "    </tr>\n",
       "    <tr>\n",
       "      <th>2</th>\n",
       "      <td>3</td>\n",
       "      <td>1</td>\n",
       "      <td>3</td>\n",
       "      <td>Heikkinen, Miss. Laina</td>\n",
       "      <td>female</td>\n",
       "      <td>26.0</td>\n",
       "      <td>0</td>\n",
       "      <td>0</td>\n",
       "      <td>STON/O2. 3101282</td>\n",
       "      <td>7.9250</td>\n",
       "      <td>NaN</td>\n",
       "      <td>S</td>\n",
       "    </tr>\n",
       "    <tr>\n",
       "      <th>3</th>\n",
       "      <td>4</td>\n",
       "      <td>1</td>\n",
       "      <td>1</td>\n",
       "      <td>Futrelle, Mrs. Jacques Heath (Lily May Peel)</td>\n",
       "      <td>female</td>\n",
       "      <td>35.0</td>\n",
       "      <td>1</td>\n",
       "      <td>0</td>\n",
       "      <td>113803</td>\n",
       "      <td>53.1000</td>\n",
       "      <td>C123</td>\n",
       "      <td>S</td>\n",
       "    </tr>\n",
       "    <tr>\n",
       "      <th>4</th>\n",
       "      <td>5</td>\n",
       "      <td>0</td>\n",
       "      <td>3</td>\n",
       "      <td>Allen, Mr. William Henry</td>\n",
       "      <td>male</td>\n",
       "      <td>35.0</td>\n",
       "      <td>0</td>\n",
       "      <td>0</td>\n",
       "      <td>373450</td>\n",
       "      <td>8.0500</td>\n",
       "      <td>NaN</td>\n",
       "      <td>S</td>\n",
       "    </tr>\n",
       "  </tbody>\n",
       "</table>\n",
       "</div>"
      ],
      "text/plain": [
       "   PassengerId  Survived  Pclass  \\\n",
       "0            1         0       3   \n",
       "1            2         1       1   \n",
       "2            3         1       3   \n",
       "3            4         1       1   \n",
       "4            5         0       3   \n",
       "\n",
       "                                                Name     Sex   Age  SibSp  \\\n",
       "0                            Braund, Mr. Owen Harris    male  22.0      1   \n",
       "1  Cumings, Mrs. John Bradley (Florence Briggs Th...  female  38.0      1   \n",
       "2                             Heikkinen, Miss. Laina  female  26.0      0   \n",
       "3       Futrelle, Mrs. Jacques Heath (Lily May Peel)  female  35.0      1   \n",
       "4                           Allen, Mr. William Henry    male  35.0      0   \n",
       "\n",
       "   Parch            Ticket     Fare Cabin Embarked  \n",
       "0      0         A/5 21171   7.2500   NaN        S  \n",
       "1      0          PC 17599  71.2833   C85        C  \n",
       "2      0  STON/O2. 3101282   7.9250   NaN        S  \n",
       "3      0            113803  53.1000  C123        S  \n",
       "4      0            373450   8.0500   NaN        S  "
      ]
     },
     "execution_count": 3,
     "metadata": {},
     "output_type": "execute_result"
    }
   ],
   "source": [
    "titanic_train.head()"
   ]
  },
  {
   "cell_type": "code",
   "execution_count": 4,
   "id": "950d1a9a",
   "metadata": {
    "execution": {
     "iopub.execute_input": "2022-06-07T11:23:34.763462Z",
     "iopub.status.busy": "2022-06-07T11:23:34.762836Z",
     "iopub.status.idle": "2022-06-07T11:23:34.778916Z",
     "shell.execute_reply": "2022-06-07T11:23:34.778011Z"
    },
    "papermill": {
     "duration": 0.025747,
     "end_time": "2022-06-07T11:23:34.781329",
     "exception": false,
     "start_time": "2022-06-07T11:23:34.755582",
     "status": "completed"
    },
    "tags": []
   },
   "outputs": [],
   "source": [
    "newpclass = pd.Categorical(titanic_train['Pclass'],ordered=True)\n",
    "newpclass = newpclass.rename_categories([\"class1\",'class2','class3'])\n"
   ]
  },
  {
   "cell_type": "code",
   "execution_count": 5,
   "id": "fcb8b89d",
   "metadata": {
    "execution": {
     "iopub.execute_input": "2022-06-07T11:23:34.795612Z",
     "iopub.status.busy": "2022-06-07T11:23:34.794942Z",
     "iopub.status.idle": "2022-06-07T11:23:34.801859Z",
     "shell.execute_reply": "2022-06-07T11:23:34.800837Z"
    },
    "papermill": {
     "duration": 0.01656,
     "end_time": "2022-06-07T11:23:34.803805",
     "exception": false,
     "start_time": "2022-06-07T11:23:34.787245",
     "status": "completed"
    },
    "tags": []
   },
   "outputs": [
    {
     "data": {
      "text/plain": [
       "Index(['class1', 'class2', 'class3'], dtype='object')"
      ]
     },
     "execution_count": 5,
     "metadata": {},
     "output_type": "execute_result"
    }
   ],
   "source": [
    "newpclass.categories"
   ]
  },
  {
   "cell_type": "code",
   "execution_count": 6,
   "id": "daf0e820",
   "metadata": {
    "execution": {
     "iopub.execute_input": "2022-06-07T11:23:34.817770Z",
     "iopub.status.busy": "2022-06-07T11:23:34.816999Z",
     "iopub.status.idle": "2022-06-07T11:23:34.822800Z",
     "shell.execute_reply": "2022-06-07T11:23:34.822023Z"
    },
    "papermill": {
     "duration": 0.015465,
     "end_time": "2022-06-07T11:23:34.824964",
     "exception": false,
     "start_time": "2022-06-07T11:23:34.809499",
     "status": "completed"
    },
    "tags": []
   },
   "outputs": [],
   "source": [
    "titanic_train[\"Pclass\"] = newpclass"
   ]
  },
  {
   "cell_type": "code",
   "execution_count": 7,
   "id": "2a3d6f07",
   "metadata": {
    "execution": {
     "iopub.execute_input": "2022-06-07T11:23:34.839329Z",
     "iopub.status.busy": "2022-06-07T11:23:34.838679Z",
     "iopub.status.idle": "2022-06-07T11:23:34.846130Z",
     "shell.execute_reply": "2022-06-07T11:23:34.844880Z"
    },
    "papermill": {
     "duration": 0.01735,
     "end_time": "2022-06-07T11:23:34.848340",
     "exception": false,
     "start_time": "2022-06-07T11:23:34.830990",
     "status": "completed"
    },
    "tags": []
   },
   "outputs": [
    {
     "data": {
      "text/plain": [
       "array(['S', 'C', 'Q', nan], dtype=object)"
      ]
     },
     "execution_count": 7,
     "metadata": {},
     "output_type": "execute_result"
    }
   ],
   "source": [
    "titanic_train.Embarked.unique()"
   ]
  },
  {
   "cell_type": "code",
   "execution_count": 8,
   "id": "0210c9b8",
   "metadata": {
    "execution": {
     "iopub.execute_input": "2022-06-07T11:23:34.862775Z",
     "iopub.status.busy": "2022-06-07T11:23:34.862313Z",
     "iopub.status.idle": "2022-06-07T11:23:34.874429Z",
     "shell.execute_reply": "2022-06-07T11:23:34.873447Z"
    },
    "papermill": {
     "duration": 0.022132,
     "end_time": "2022-06-07T11:23:34.876557",
     "exception": false,
     "start_time": "2022-06-07T11:23:34.854425",
     "status": "completed"
    },
    "tags": []
   },
   "outputs": [
    {
     "data": {
      "text/plain": [
       "0       NaN\n",
       "1       C85\n",
       "2       NaN\n",
       "3      C123\n",
       "4       NaN\n",
       "       ... \n",
       "886     NaN\n",
       "887     B42\n",
       "888     NaN\n",
       "889    C148\n",
       "890     NaN\n",
       "Name: Cabin, Length: 891, dtype: object"
      ]
     },
     "execution_count": 8,
     "metadata": {},
     "output_type": "execute_result"
    }
   ],
   "source": [
    "char_cabin = titanic_train[\"Cabin\"].astype(str)\n",
    "titanic_train[\"Cabin\"]"
   ]
  },
  {
   "cell_type": "code",
   "execution_count": 9,
   "id": "d6d20e57",
   "metadata": {
    "execution": {
     "iopub.execute_input": "2022-06-07T11:23:34.890679Z",
     "iopub.status.busy": "2022-06-07T11:23:34.890240Z",
     "iopub.status.idle": "2022-06-07T11:23:34.897294Z",
     "shell.execute_reply": "2022-06-07T11:23:34.896672Z"
    },
    "papermill": {
     "duration": 0.016808,
     "end_time": "2022-06-07T11:23:34.899559",
     "exception": false,
     "start_time": "2022-06-07T11:23:34.882751",
     "status": "completed"
    },
    "tags": []
   },
   "outputs": [
    {
     "data": {
      "text/plain": [
       "<bound method NDFrame.astype of 0       NaN\n",
       "1       C85\n",
       "2       NaN\n",
       "3      C123\n",
       "4       NaN\n",
       "       ... \n",
       "886     NaN\n",
       "887     B42\n",
       "888     NaN\n",
       "889    C148\n",
       "890     NaN\n",
       "Name: Cabin, Length: 891, dtype: object>"
      ]
     },
     "execution_count": 9,
     "metadata": {},
     "output_type": "execute_result"
    }
   ],
   "source": [
    "titanic_train[\"Cabin\"].astype"
   ]
  },
  {
   "cell_type": "code",
   "execution_count": 10,
   "id": "0ca7a77c",
   "metadata": {
    "execution": {
     "iopub.execute_input": "2022-06-07T11:23:34.914454Z",
     "iopub.status.busy": "2022-06-07T11:23:34.913922Z",
     "iopub.status.idle": "2022-06-07T11:23:34.918597Z",
     "shell.execute_reply": "2022-06-07T11:23:34.917855Z"
    },
    "papermill": {
     "duration": 0.014888,
     "end_time": "2022-06-07T11:23:34.920556",
     "exception": false,
     "start_time": "2022-06-07T11:23:34.905668",
     "status": "completed"
    },
    "tags": []
   },
   "outputs": [],
   "source": [
    "new_Cabin = np.array([cabin[0] for cabin in char_cabin])"
   ]
  },
  {
   "cell_type": "code",
   "execution_count": 11,
   "id": "d8a34958",
   "metadata": {
    "execution": {
     "iopub.execute_input": "2022-06-07T11:23:34.935818Z",
     "iopub.status.busy": "2022-06-07T11:23:34.935090Z",
     "iopub.status.idle": "2022-06-07T11:23:34.939924Z",
     "shell.execute_reply": "2022-06-07T11:23:34.939005Z"
    },
    "papermill": {
     "duration": 0.014871,
     "end_time": "2022-06-07T11:23:34.941901",
     "exception": false,
     "start_time": "2022-06-07T11:23:34.927030",
     "status": "completed"
    },
    "tags": []
   },
   "outputs": [],
   "source": [
    "new_Cabin = pd.Categorical(new_Cabin)"
   ]
  },
  {
   "cell_type": "code",
   "execution_count": 12,
   "id": "4f2ba2d8",
   "metadata": {
    "execution": {
     "iopub.execute_input": "2022-06-07T11:23:34.957132Z",
     "iopub.status.busy": "2022-06-07T11:23:34.956479Z",
     "iopub.status.idle": "2022-06-07T11:23:34.967723Z",
     "shell.execute_reply": "2022-06-07T11:23:34.966973Z"
    },
    "papermill": {
     "duration": 0.021526,
     "end_time": "2022-06-07T11:23:34.969836",
     "exception": false,
     "start_time": "2022-06-07T11:23:34.948310",
     "status": "completed"
    },
    "tags": []
   },
   "outputs": [
    {
     "data": {
      "text/html": [
       "<div>\n",
       "<style scoped>\n",
       "    .dataframe tbody tr th:only-of-type {\n",
       "        vertical-align: middle;\n",
       "    }\n",
       "\n",
       "    .dataframe tbody tr th {\n",
       "        vertical-align: top;\n",
       "    }\n",
       "\n",
       "    .dataframe thead th {\n",
       "        text-align: right;\n",
       "    }\n",
       "</style>\n",
       "<table border=\"1\" class=\"dataframe\">\n",
       "  <thead>\n",
       "    <tr style=\"text-align: right;\">\n",
       "      <th></th>\n",
       "      <th>counts</th>\n",
       "      <th>freqs</th>\n",
       "    </tr>\n",
       "    <tr>\n",
       "      <th>categories</th>\n",
       "      <th></th>\n",
       "      <th></th>\n",
       "    </tr>\n",
       "  </thead>\n",
       "  <tbody>\n",
       "    <tr>\n",
       "      <th>A</th>\n",
       "      <td>15</td>\n",
       "      <td>0.016835</td>\n",
       "    </tr>\n",
       "    <tr>\n",
       "      <th>B</th>\n",
       "      <td>47</td>\n",
       "      <td>0.052750</td>\n",
       "    </tr>\n",
       "    <tr>\n",
       "      <th>C</th>\n",
       "      <td>59</td>\n",
       "      <td>0.066218</td>\n",
       "    </tr>\n",
       "    <tr>\n",
       "      <th>D</th>\n",
       "      <td>33</td>\n",
       "      <td>0.037037</td>\n",
       "    </tr>\n",
       "    <tr>\n",
       "      <th>E</th>\n",
       "      <td>32</td>\n",
       "      <td>0.035915</td>\n",
       "    </tr>\n",
       "    <tr>\n",
       "      <th>F</th>\n",
       "      <td>13</td>\n",
       "      <td>0.014590</td>\n",
       "    </tr>\n",
       "    <tr>\n",
       "      <th>G</th>\n",
       "      <td>4</td>\n",
       "      <td>0.004489</td>\n",
       "    </tr>\n",
       "    <tr>\n",
       "      <th>T</th>\n",
       "      <td>1</td>\n",
       "      <td>0.001122</td>\n",
       "    </tr>\n",
       "    <tr>\n",
       "      <th>n</th>\n",
       "      <td>687</td>\n",
       "      <td>0.771044</td>\n",
       "    </tr>\n",
       "  </tbody>\n",
       "</table>\n",
       "</div>"
      ],
      "text/plain": [
       "            counts     freqs\n",
       "categories                  \n",
       "A               15  0.016835\n",
       "B               47  0.052750\n",
       "C               59  0.066218\n",
       "D               33  0.037037\n",
       "E               32  0.035915\n",
       "F               13  0.014590\n",
       "G                4  0.004489\n",
       "T                1  0.001122\n",
       "n              687  0.771044"
      ]
     },
     "execution_count": 12,
     "metadata": {},
     "output_type": "execute_result"
    }
   ],
   "source": [
    "new_Cabin.describe()"
   ]
  },
  {
   "cell_type": "code",
   "execution_count": 13,
   "id": "f210bd7a",
   "metadata": {
    "execution": {
     "iopub.execute_input": "2022-06-07T11:23:34.984831Z",
     "iopub.status.busy": "2022-06-07T11:23:34.984305Z",
     "iopub.status.idle": "2022-06-07T11:23:36.267472Z",
     "shell.execute_reply": "2022-06-07T11:23:36.266411Z"
    },
    "papermill": {
     "duration": 1.293685,
     "end_time": "2022-06-07T11:23:36.270040",
     "exception": false,
     "start_time": "2022-06-07T11:23:34.976355",
     "status": "completed"
    },
    "tags": []
   },
   "outputs": [],
   "source": [
    "import matplotlib.pyplot as plt\n",
    "import seaborn as sns"
   ]
  },
  {
   "cell_type": "code",
   "execution_count": 14,
   "id": "520aa41a",
   "metadata": {
    "execution": {
     "iopub.execute_input": "2022-06-07T11:23:36.284964Z",
     "iopub.status.busy": "2022-06-07T11:23:36.284567Z",
     "iopub.status.idle": "2022-06-07T11:23:36.477436Z",
     "shell.execute_reply": "2022-06-07T11:23:36.476280Z"
    },
    "papermill": {
     "duration": 0.203267,
     "end_time": "2022-06-07T11:23:36.479874",
     "exception": false,
     "start_time": "2022-06-07T11:23:36.276607",
     "status": "completed"
    },
    "tags": []
   },
   "outputs": [
    {
     "data": {
      "text/plain": [
       "{'whiskers': [<matplotlib.lines.Line2D at 0x7fe159ba03d0>,\n",
       "  <matplotlib.lines.Line2D at 0x7fe159ba0b10>],\n",
       " 'caps': [<matplotlib.lines.Line2D at 0x7fe159ba0e50>,\n",
       "  <matplotlib.lines.Line2D at 0x7fe159bb41d0>],\n",
       " 'boxes': [<matplotlib.lines.Line2D at 0x7fe159ba0490>],\n",
       " 'medians': [<matplotlib.lines.Line2D at 0x7fe159bb4550>],\n",
       " 'fliers': [<matplotlib.lines.Line2D at 0x7fe159bb4890>],\n",
       " 'means': []}"
      ]
     },
     "execution_count": 14,
     "metadata": {},
     "output_type": "execute_result"
    },
    {
     "data": {
      "image/png": "[encoded data removed]",
      "text/plain": [
       "<Figure size 432x288 with 1 Axes>"
      ]
     },
     "metadata": {
      "needs_background": "light"
     },
     "output_type": "display_data"
    }
   ],
   "source": [
    "plt.boxplot(x = 'Fare',data = titanic_train)"
   ]
  },
  {
   "cell_type": "code",
   "execution_count": 15,
   "id": "7cd392ec",
   "metadata": {
    "execution": {
     "iopub.execute_input": "2022-06-07T11:23:36.496357Z",
     "iopub.status.busy": "2022-06-07T11:23:36.495954Z",
     "iopub.status.idle": "2022-06-07T11:23:36.515759Z",
     "shell.execute_reply": "2022-06-07T11:23:36.514747Z"
    },
    "papermill": {
     "duration": 0.030242,
     "end_time": "2022-06-07T11:23:36.517844",
     "exception": false,
     "start_time": "2022-06-07T11:23:36.487602",
     "status": "completed"
    },
    "tags": []
   },
   "outputs": [
    {
     "data": {
      "text/html": [
       "<div>\n",
       "<style scoped>\n",
       "    .dataframe tbody tr th:only-of-type {\n",
       "        vertical-align: middle;\n",
       "    }\n",
       "\n",
       "    .dataframe tbody tr th {\n",
       "        vertical-align: top;\n",
       "    }\n",
       "\n",
       "    .dataframe thead th {\n",
       "        text-align: right;\n",
       "    }\n",
       "</style>\n",
       "<table border=\"1\" class=\"dataframe\">\n",
       "  <thead>\n",
       "    <tr style=\"text-align: right;\">\n",
       "      <th></th>\n",
       "      <th>PassengerId</th>\n",
       "      <th>Survived</th>\n",
       "      <th>Pclass</th>\n",
       "      <th>Name</th>\n",
       "      <th>Sex</th>\n",
       "      <th>Age</th>\n",
       "      <th>SibSp</th>\n",
       "      <th>Parch</th>\n",
       "      <th>Ticket</th>\n",
       "      <th>Fare</th>\n",
       "      <th>Cabin</th>\n",
       "      <th>Embarked</th>\n",
       "    </tr>\n",
       "  </thead>\n",
       "  <tbody>\n",
       "    <tr>\n",
       "      <th>258</th>\n",
       "      <td>259</td>\n",
       "      <td>1</td>\n",
       "      <td>class1</td>\n",
       "      <td>Ward, Miss. Anna</td>\n",
       "      <td>female</td>\n",
       "      <td>35.0</td>\n",
       "      <td>0</td>\n",
       "      <td>0</td>\n",
       "      <td>PC 17755</td>\n",
       "      <td>512.3292</td>\n",
       "      <td>NaN</td>\n",
       "      <td>C</td>\n",
       "    </tr>\n",
       "    <tr>\n",
       "      <th>679</th>\n",
       "      <td>680</td>\n",
       "      <td>1</td>\n",
       "      <td>class1</td>\n",
       "      <td>Cardeza, Mr. Thomas Drake Martinez</td>\n",
       "      <td>male</td>\n",
       "      <td>36.0</td>\n",
       "      <td>0</td>\n",
       "      <td>1</td>\n",
       "      <td>PC 17755</td>\n",
       "      <td>512.3292</td>\n",
       "      <td>B51 B53 B55</td>\n",
       "      <td>C</td>\n",
       "    </tr>\n",
       "    <tr>\n",
       "      <th>737</th>\n",
       "      <td>738</td>\n",
       "      <td>1</td>\n",
       "      <td>class1</td>\n",
       "      <td>Lesurer, Mr. Gustave J</td>\n",
       "      <td>male</td>\n",
       "      <td>35.0</td>\n",
       "      <td>0</td>\n",
       "      <td>0</td>\n",
       "      <td>PC 17755</td>\n",
       "      <td>512.3292</td>\n",
       "      <td>B101</td>\n",
       "      <td>C</td>\n",
       "    </tr>\n",
       "  </tbody>\n",
       "</table>\n",
       "</div>"
      ],
      "text/plain": [
       "     PassengerId  Survived  Pclass                                Name  \\\n",
       "258          259         1  class1                    Ward, Miss. Anna   \n",
       "679          680         1  class1  Cardeza, Mr. Thomas Drake Martinez   \n",
       "737          738         1  class1              Lesurer, Mr. Gustave J   \n",
       "\n",
       "        Sex   Age  SibSp  Parch    Ticket      Fare        Cabin Embarked  \n",
       "258  female  35.0      0      0  PC 17755  512.3292          NaN        C  \n",
       "679    male  36.0      0      1  PC 17755  512.3292  B51 B53 B55        C  \n",
       "737    male  35.0      0      0  PC 17755  512.3292         B101        C  "
      ]
     },
     "execution_count": 15,
     "metadata": {},
     "output_type": "execute_result"
    }
   ],
   "source": [
    "max_fare = np.where(titanic_train[\"Fare\"] == max(titanic_train['Fare']))\n",
    "titanic_train.loc[max_fare]"
   ]
  },
  {
   "cell_type": "code",
   "execution_count": null,
   "id": "6a973d6b",
   "metadata": {
    "papermill": {
     "duration": 0.006508,
     "end_time": "2022-06-07T11:23:36.531380",
     "exception": false,
     "start_time": "2022-06-07T11:23:36.524872",
     "status": "completed"
    },
    "tags": []
   },
   "outputs": [],
   "source": []
  }
 ],
 "metadata": {
  "kernelspec": {
   "display_name": "Python 3",
   "language": "python",
   "name": "python3"
  },
  "language_info": {
   "codemirror_mode": {
    "name": "ipython",
    "version": 3
   },
   "file_extension": ".py",
   "mimetype": "text/x-python",
   "name": "python",
   "nbconvert_exporter": "python",
   "pygments_lexer": "ipython3",
   "version": "3.7.12"
  },
  "papermill": {
   "default_parameters": {},
   "duration": 13.498802,
   "end_time": "2022-06-07T11:23:37.562815",
   "environment_variables": {},
   "exception": null,
   "input_path": "__notebook__.ipynb",
   "output_path": "__notebook__.ipynb",
   "parameters": {},
   "start_time": "2022-06-07T11:23:24.064013",
   "version": "2.3.4"
  }
 },
 "nbformat": 4,
 "nbformat_minor": 5
}
